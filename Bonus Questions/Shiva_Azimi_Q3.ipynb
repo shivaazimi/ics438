{
 "cells": [
  {
   "cell_type": "code",
   "execution_count": 1,
   "id": "b54eb597",
   "metadata": {},
   "outputs": [],
   "source": [
    "# pip install pyarrow"
   ]
  },
  {
   "cell_type": "code",
   "execution_count": 2,
   "id": "aaa95503",
   "metadata": {},
   "outputs": [],
   "source": [
    "# pip install awscli"
   ]
  },
  {
   "cell_type": "code",
   "execution_count": 5,
   "id": "5f92ed88",
   "metadata": {
    "scrolled": true
   },
   "outputs": [
    {
     "name": "stdout",
     "output_type": "stream",
     "text": [
      "      Name                    Value             Type    Location\n",
      "      ----                    -----             ----    --------\n",
      "   profile                <not set>             None    None\n",
      "access_key     ****************ATZI shared-credentials-file    \n",
      "secret_key     ****************e3kB shared-credentials-file    \n",
      "    region                us-west-1      config-file    ~/.aws/config\n"
     ]
    }
   ],
   "source": [
    "# import os\n",
    "# !set AWS_SHARED_CREDENTIALS_FILE=awscli.ini\n",
    "# path = \"awscli.ini\"\n",
    "# os.environ['AWS_SHARED_CREDENTIALS_FILE'] = path\n",
    "\n",
    "# !aws configure list"
   ]
  },
  {
   "cell_type": "code",
   "execution_count": 6,
   "id": "3604becf",
   "metadata": {},
   "outputs": [
    {
     "name": "stdout",
     "output_type": "stream",
     "text": [
      "CPU times: total: 1.56 s\n",
      "Wall time: 21.9 s\n"
     ]
    },
    {
     "data": {
      "text/plain": [
       "<pyarrow._dataset.FileSystemDataset at 0x28110506c20>"
      ]
     },
     "execution_count": 6,
     "metadata": {},
     "output_type": "execute_result"
    }
   ],
   "source": [
    "%%time\n",
    "import pyarrow.dataset as ds\n",
    "dataset = ds.dataset(\"s3://ursa-labs-taxi-data/\", partitioning=[\"year\", \"month\"])\n",
    "dataset"
   ]
  },
  {
   "cell_type": "code",
   "execution_count": 19,
   "id": "36fe3e5b",
   "metadata": {},
   "outputs": [
    {
     "name": "stdout",
     "output_type": "stream",
     "text": [
      "Average tip of  0  o'Clock is  1.4243779527112415\n",
      "Average tip of  1  o'Clock is  1.3442984866228143\n",
      "Average tip of  2  o'Clock is  1.2371060744676055\n",
      "Average tip of  3  o'Clock is  1.198042766172848\n",
      "Average tip of  4  o'Clock is  1.1992213773037776\n",
      "Average tip of  5  o'Clock is  1.4427898625866893\n",
      "Average tip of  6  o'Clock is  1.3122225741059355\n",
      "Average tip of  7  o'Clock is  1.2269625773606119\n",
      "Average tip of  8  o'Clock is  1.2818543596148426\n",
      "Average tip of  9  o'Clock is  1.3147329248500712\n",
      "Average tip of  10  o'Clock is  1.2388282293011472\n",
      "Average tip of  11  o'Clock is  1.2109359922782343\n",
      "Average tip of  12  o'Clock is  1.205665626765673\n",
      "Average tip of  13  o'Clock is  1.2084415345419697\n",
      "Average tip of  14  o'Clock is  1.23916575228452\n",
      "Average tip of  15  o'Clock is  1.258098961464723\n",
      "Average tip of  16  o'Clock is  1.3465213173172041\n",
      "Average tip of  17  o'Clock is  1.3224847696402944\n",
      "Average tip of  18  o'Clock is  1.3222653005078675\n",
      "Average tip of  19  o'Clock is  1.3484106260181405\n",
      "Average tip of  20  o'Clock is  1.3284383941678144\n",
      "Average tip of  21  o'Clock is  1.374529452433925\n",
      "Average tip of  22  o'Clock is  1.4064534019428319\n",
      "Average tip of  23  o'Clock is  1.4233998376029668\n",
      "5  o'Clock, on average has the highest tip of  1.4427898625866893\n",
      "CPU times: total: 1h 11min 10s\n",
      "Wall time: 1h 52min 22s\n"
     ]
    }
   ],
   "source": [
    "%%time\n",
    "# * Which time (hour) of the day has the highest tip?\n",
    "\n",
    "import pyarrow.compute as pc\n",
    "import pyarrow.parquet as pq\n",
    "from datetime import datetime\n",
    "hour_count = [0] * 24\n",
    "hour_tips = [0] * 24\n",
    "hour_average = [0] * 24 \n",
    "columns_to_select =['dropoff_at', 'tip_amount']\n",
    "for frag in dataset.get_fragments():\n",
    "#     print(\"New Fragment\")\n",
    "    frag_table = frag.to_table(columns = columns_to_select)\n",
    "    sorted_indices = pc.sort_indices([dt.as_py().hour for dt in frag_table[\"dropoff_at\"]])\n",
    "    sorted_table = frag_table.take(sorted_indices)\n",
    "\n",
    "    row_group_max_size = frag_table.to_batches()[0].num_rows\n",
    "    pq.write_table(sorted_table, 'optimized_parquet_file.parquet', row_group_size=row_group_max_size)\n",
    "    optimized_parquet_file = pq.ParquetFile('optimized_parquet_file.parquet')\n",
    "\n",
    "    for i in range(optimized_parquet_file.num_row_groups):\n",
    "#         print(\"New Row Group\")\n",
    "    # name_2_pos = {x[\"path_in_schema\"]:i for i, x in enumerate(optimized_parquet_file.metadata.row_group(i).to_dict()[\"columns\"])}\n",
    "        col_stats = optimized_parquet_file.metadata.row_group(i).column(0).statistics\n",
    "#         print(\"min : \",col_stats.min.hour,\"max : \",col_stats.max.hour)\n",
    "        tip_amounts= optimized_parquet_file.read_row_group(i)[\"tip_amount\"]\n",
    "        if col_stats.min.hour == col_stats.max.hour:\n",
    "#             print(\"IF\")\n",
    "            hour_count[col_stats.min.hour] += len(tip_amounts)\n",
    "            hour_tips[col_stats.min.hour] += pc.sum(tip_amounts).as_py()\n",
    "#             print(\"LEN: \",len(tip_amounts))\n",
    "#             print(\"SUM : \",pc.sum(tip_amounts).as_py())\n",
    "        else:\n",
    "#             print(\"ELSE\")\n",
    "            dropoffs= optimized_parquet_file.read_row_group(i)[\"dropoff_at\"]\n",
    "            for hour in range(col_stats.min.hour,col_stats.max.hour+1):\n",
    "                filtered_hour = [dropoff_at.as_py().hour == hour for dropoff_at in dropoffs]\n",
    "                filtered_tip_amount = pc.filter(tip_amounts, filtered_hour)\n",
    "                if len(filtered_tip_amount)>0 :\n",
    "#                     print(\"LEN: \",len(filtered_tip_amount))\n",
    "#                     print(\"SUM : \",pc.sum(filtered_tip_amount).as_py())\n",
    "                    hour_count[hour] += len(filtered_tip_amount)\n",
    "                    hour_tips[hour] += pc.sum(filtered_tip_amount).as_py()\n",
    "#         print(\"hour_count\",hour_count)\n",
    "#         print(\" hour_tips\", hour_tips)\n",
    "\n",
    "for hour in range(24):\n",
    "    if hour_count[hour]>0:\n",
    "        hour_average[hour] = hour_tips[hour]/hour_count[hour]\n",
    "        print (\"Average tip of \",hour,\" o'Clock is \", hour_average[hour])\n",
    "        \n",
    "\n",
    "max_average_tip, max_hour = max((value, index) for index, value in enumerate(hour_average))\n",
    "print (max_hour,\" o'Clock, on average has the highest tip of \",max_average_tip)"
   ]
  },
  {
   "cell_type": "code",
   "execution_count": null,
   "id": "32f77f84",
   "metadata": {},
   "outputs": [],
   "source": []
  }
 ],
 "metadata": {
  "kernelspec": {
   "display_name": "Python 3 (ipykernel)",
   "language": "python",
   "name": "python3"
  },
  "language_info": {
   "codemirror_mode": {
    "name": "ipython",
    "version": 3
   },
   "file_extension": ".py",
   "mimetype": "text/x-python",
   "name": "python",
   "nbconvert_exporter": "python",
   "pygments_lexer": "ipython3",
   "version": "3.10.4"
  }
 },
 "nbformat": 4,
 "nbformat_minor": 5
}
