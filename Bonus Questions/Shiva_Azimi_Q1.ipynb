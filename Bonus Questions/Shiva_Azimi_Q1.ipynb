{
 "cells": [
  {
   "cell_type": "code",
   "execution_count": 3,
   "id": "839e098e",
   "metadata": {
    "collapsed": true
   },
   "outputs": [
    {
     "name": "stdout",
     "output_type": "stream",
     "text": [
      "Collecting pyarrowNote: you may need to restart the kernel to use updated packages.\n",
      "\n",
      "  Downloading pyarrow-13.0.0-cp310-cp310-win_amd64.whl (24.3 MB)\n",
      "     --------------------------------------- 24.3/24.3 MB 10.1 MB/s eta 0:00:00\n",
      "Requirement already satisfied: numpy>=1.16.6 in c:\\users\\18083\\appdata\\local\\programs\\python\\python310\\lib\\site-packages (from pyarrow) (1.23.3)\n",
      "Installing collected packages: pyarrow\n",
      "Successfully installed pyarrow-13.0.0\n"
     ]
    },
    {
     "name": "stderr",
     "output_type": "stream",
     "text": [
      "\n",
      "[notice] A new release of pip available: 22.3 -> 23.2.1\n",
      "[notice] To update, run: python.exe -m pip install --upgrade pip\n"
     ]
    }
   ],
   "source": [
    "#pip install pyarrow"
   ]
  },
  {
   "cell_type": "code",
   "execution_count": 5,
   "id": "72a80edb",
   "metadata": {
    "collapsed": true
   },
   "outputs": [
    {
     "name": "stdout",
     "output_type": "stream",
     "text": [
      "Collecting awscli\n",
      "  Downloading awscli-1.29.52-py3-none-any.whl (4.3 MB)\n",
      "     ---------------------------------------- 4.3/4.3 MB 6.2 MB/s eta 0:00:00\n",
      "Collecting s3transfer<0.7.0,>=0.6.0\n",
      "  Downloading s3transfer-0.6.2-py3-none-any.whl (79 kB)\n",
      "     ---------------------------------------- 79.8/79.8 kB 4.3 MB/s eta 0:00:00\n",
      "Collecting rsa<4.8,>=3.1.2\n",
      "  Downloading rsa-4.7.2-py3-none-any.whl (34 kB)\n",
      "Requirement already satisfied: PyYAML<6.1,>=3.10 in c:\\users\\18083\\appdata\\local\\programs\\python\\python310\\lib\\site-packages (from awscli) (6.0)\n",
      "Collecting botocore==1.31.52\n",
      "  Downloading botocore-1.31.52-py3-none-any.whl (11.2 MB)\n",
      "     --------------------------------------- 11.2/11.2 MB 10.1 MB/s eta 0:00:00\n",
      "Collecting docutils<0.17,>=0.10\n",
      "  Downloading docutils-0.16-py2.py3-none-any.whl (548 kB)\n",
      "     -------------------------------------- 548.2/548.2 kB 8.7 MB/s eta 0:00:00\n",
      "Collecting colorama<0.4.5,>=0.2.5\n",
      "  Downloading colorama-0.4.4-py2.py3-none-any.whl (16 kB)\n",
      "Requirement already satisfied: urllib3<1.27,>=1.25.4 in c:\\users\\18083\\appdata\\local\\programs\\python\\python310\\lib\\site-packages (from botocore==1.31.52->awscli) (1.26.12)\n",
      "Requirement already satisfied: python-dateutil<3.0.0,>=2.1 in c:\\users\\18083\\appdata\\local\\programs\\python\\python310\\lib\\site-packages (from botocore==1.31.52->awscli) (2.8.2)\n",
      "Collecting jmespath<2.0.0,>=0.7.1\n",
      "  Downloading jmespath-1.0.1-py3-none-any.whl (20 kB)\n",
      "Requirement already satisfied: pyasn1>=0.1.3 in c:\\users\\18083\\appdata\\local\\programs\\python\\python310\\lib\\site-packages (from rsa<4.8,>=3.1.2->awscli) (0.4.8)\n",
      "Requirement already satisfied: six>=1.5 in c:\\users\\18083\\appdata\\local\\programs\\python\\python310\\lib\\site-packages (from python-dateutil<3.0.0,>=2.1->botocore==1.31.52->awscli) (1.16.0)\n",
      "Installing collected packages: rsa, jmespath, docutils, colorama, botocore, s3transfer, awscli\n",
      "  Attempting uninstall: rsa\n",
      "    Found existing installation: rsa 4.9\n",
      "    Uninstalling rsa-4.9:\n",
      "      Successfully uninstalled rsa-4.9\n",
      "  Attempting uninstall: colorama\n",
      "    Found existing installation: colorama 0.4.5\n",
      "    Uninstalling colorama-0.4.5:\n",
      "      Successfully uninstalled colorama-0.4.5\n",
      "Successfully installed awscli-1.29.52 botocore-1.31.52 colorama-0.4.4 docutils-0.16 jmespath-1.0.1 rsa-4.7.2 s3transfer-0.6.2\n",
      "Note: you may need to restart the kernel to use updated packages.\n"
     ]
    },
    {
     "name": "stderr",
     "output_type": "stream",
     "text": [
      "\n",
      "[notice] A new release of pip available: 22.3 -> 23.2.1\n",
      "[notice] To update, run: python.exe -m pip install --upgrade pip\n"
     ]
    }
   ],
   "source": [
    "#pip install awscli"
   ]
  },
  {
   "cell_type": "code",
   "execution_count": 14,
   "id": "19b1e3ab",
   "metadata": {
    "collapsed": true
   },
   "outputs": [
    {
     "name": "stdout",
     "output_type": "stream",
     "text": [
      "      Name                    Value             Type    Location\n",
      "      ----                    -----             ----    --------\n",
      "   profile                <not set>             None    None\n",
      "access_key     ****************ATZI shared-credentials-file    \n",
      "secret_key     ****************e3kB shared-credentials-file    \n",
      "    region                us-west-1      config-file    ~/.aws/config\n"
     ]
    }
   ],
   "source": [
    "# import os\n",
    "# !set AWS_SHARED_CREDENTIALS_FILE=awscli.ini\n",
    "# path = \"awscli.ini\"\n",
    "# os.environ['AWS_SHARED_CREDENTIALS_FILE'] = path\n",
    "\n",
    "# !aws configure list"
   ]
  },
  {
   "cell_type": "code",
   "execution_count": 15,
   "id": "0824ad1f",
   "metadata": {},
   "outputs": [
    {
     "name": "stdout",
     "output_type": "stream",
     "text": [
      "CPU times: total: 484 ms\n",
      "Wall time: 21.3 s\n"
     ]
    },
    {
     "data": {
      "text/plain": [
       "<pyarrow._dataset.FileSystemDataset at 0x1492f70ece0>"
      ]
     },
     "execution_count": 15,
     "metadata": {},
     "output_type": "execute_result"
    }
   ],
   "source": [
    "%%time\n",
    "import pyarrow.dataset as ds\n",
    "dataset = ds.dataset(\"s3://ursa-labs-taxi-data/\", partitioning=[\"year\", \"month\"])\n",
    "dataset"
   ]
  },
  {
   "cell_type": "code",
   "execution_count": 16,
   "id": "9662a648",
   "metadata": {},
   "outputs": [],
   "source": [
    "# Question 1"
   ]
  },
  {
   "cell_type": "code",
   "execution_count": 27,
   "id": "3ceb312f",
   "metadata": {},
   "outputs": [
    {
     "name": "stdout",
     "output_type": "stream",
     "text": [
      "Average transaction between 2:00-2:59 PM:  14.006634757751423\n",
      "CPU times: total: 39min 58s\n",
      "Wall time: 1h 13min 52s\n"
     ]
    }
   ],
   "source": [
    "%%time\n",
    "import pyarrow.compute as pc\n",
    "import pyarrow.parquet as pq\n",
    "from datetime import datetime\n",
    "count=0\n",
    "total_amount = 0\n",
    "columns_to_select = ['dropoff_at', 'total_amount']\n",
    "for frag in dataset.get_fragments():\n",
    "    frag_table = frag.to_table(columns = columns_to_select)\n",
    "    sorted_indices = pc.sort_indices([dt.as_py().hour for dt in frag_table[\"dropoff_at\"]])\n",
    "    sorted_table = frag_table.take(sorted_indices)\n",
    "\n",
    "    row_group_max_size = frag_table.to_batches()[0].num_rows\n",
    "    pq.write_table(sorted_table, 'optimized_parquet_file.parquet', row_group_size=row_group_max_size)\n",
    "    optimized_parquet_file = pq.ParquetFile('optimized_parquet_file.parquet')\n",
    "\n",
    "    for i in range(optimized_parquet_file.num_row_groups):\n",
    "        col_stats = optimized_parquet_file.metadata.row_group(i).column(0).statistics\n",
    "        if col_stats.min.hour <= 14  and col_stats.max.hour >= 14:\n",
    "            dropoffs= optimized_parquet_file.read_row_group(i)[\"dropoff_at\"]\n",
    "            filtered_timestamps = [14 <= timestamp.as_py().hour < 15 for timestamp in dropoffs]\n",
    "            filtered_total_amount = pc.filter(optimized_parquet_file.read_row_group(i)[\"total_amount\"], filtered_timestamps)\n",
    "            count += len(filtered_total_amount)\n",
    "            total_amount += pc.sum(filtered_total_amount).as_py()\n",
    "\n",
    "if count>0:\n",
    "    average = total_amount/count\n",
    "    print(\"Average transaction between 2:00-2:59 PM: \",average)\n",
    "else:\n",
    "    print(\"No transaction between 2:00-2:59 PM\")\n"
   ]
  },
  {
   "cell_type": "code",
   "execution_count": null,
   "id": "67439b3b",
   "metadata": {},
   "outputs": [],
   "source": []
  }
 ],
 "metadata": {
  "kernelspec": {
   "display_name": "Python 3 (ipykernel)",
   "language": "python",
   "name": "python3"
  },
  "language_info": {
   "codemirror_mode": {
    "name": "ipython",
    "version": 3
   },
   "file_extension": ".py",
   "mimetype": "text/x-python",
   "name": "python",
   "nbconvert_exporter": "python",
   "pygments_lexer": "ipython3",
   "version": "3.10.7"
  }
 },
 "nbformat": 4,
 "nbformat_minor": 5
}
